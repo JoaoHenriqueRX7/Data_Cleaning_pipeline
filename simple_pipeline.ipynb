{
 "cells": [
  {
   "cell_type": "markdown",
   "metadata": {},
   "source": [
    "## Simple Data Cleaning Pipeline with Pandas: A Practical Approach\n",
    "\n",
    "**Introduction:**\n",
    "\n",
    "Welcome to this Jupyter Notebook where we explore the development and implementation of an efficient data cleaning pipeline using Python's Pandas library. This project is designed to showcase practical methods for handling common data issues such as duplicate values, outliers, and missing data.\n",
    "\n",
    "**Throughout this notebook, we will:**\n",
    "\n",
    " - Define a sample DataFrame that simulates real-world data challenges.\n",
    " - Implement and explain a series of functions to clean and preprocess the data:\n",
    " - fill_missing_values to handle missing data.\n",
    " - drop_duplicates to remove duplicate entries.\n",
    " - remove_outliers to identify and eliminate outliers from the data.\n",
    " - Apply these functions in a pipeline to streamline the data cleaning process.\n",
    " - Analyze the before and after effects of the cleaning process with visual and statistical comparisons.\n",
    "\n",
    "Our goal is to demonstrate a clear and efficient approach to data cleaning that can be applied in various data analysis and data science scenarios. Let's dive in!"
   ]
  },
  {
   "cell_type": "markdown",
   "metadata": {},
   "source": [
    "## Requirements\n",
    "\n",
    "To run this notebook, you need the following Python libraries:\n",
    "- pandas (version 2.0.3)\n",
    "- numpy (version 1.24.3)\n",
    "- matplotlib (version 3.7.1)\n",
    "- seaborn (version 0.13.0)\n",
    "\n",
    "You can install these libraries using pip:\n",
    "\n",
    "    pip install pandas numpy matplotlib seaborn"
   ]
  },
  {
   "cell_type": "markdown",
   "metadata": {},
   "source": [
    "- First of all, we gonna import the necessary libraries:"
   ]
  },
  {
   "cell_type": "code",
   "execution_count": 4,
   "metadata": {},
   "outputs": [],
   "source": [
    "import pandas as pd\n",
    "import numpy as np"
   ]
  },
  {
   "cell_type": "markdown",
   "metadata": {},
   "source": [
    "- Now we gonna define a DataFrame including duplicates, outliers, and missing values:"
   ]
  },
  {
   "cell_type": "code",
   "execution_count": 5,
   "metadata": {},
   "outputs": [],
   "source": [
    "df = pd.DataFrame({\n",
    "    'id': [1, 2, 2, 4, 5, 6, 7, 8, 9, 10],  # Duplicated value in the second row\n",
    "    'Column2': ['A', 'B', 'C', 'D', 'E', 'F', 'G', 'H', 'I', 'J'],\n",
    "    'Column3': [100, 200, 300, 400, 500, 600, 700, 8000, 900, 1000],  # Outlier in the eighth row\n",
    "    'Column4': [np.nan, 1.1, 2.2, 3.3, np.nan, 5.5, 6.6, 7.7, 8.8, 9.9],  # Missing values in the first and fifth rows\n",
    "    'Column5': [10, 20, 30, 40, 50, 60, 70, 80, 90, 100]\n",
    "})"
   ]
  },
  {
   "cell_type": "markdown",
   "metadata": {},
   "source": [
    "- Print the dataframe and statistical sumaries after the data treatment:"
   ]
  },
  {
   "cell_type": "code",
   "execution_count": 6,
   "metadata": {},
   "outputs": [
    {
     "name": "stdout",
     "output_type": "stream",
     "text": [
      "Before Cleaning:\n",
      "\n",
      "              id      Column3   Column4     Column5\n",
      "count  10.000000    10.000000  8.000000   10.000000\n",
      "mean    5.400000  1270.000000  5.637500   55.000000\n",
      "std     3.134042  2382.365771  3.190135   30.276504\n",
      "min     1.000000   100.000000  1.100000   10.000000\n",
      "25%     2.500000   325.000000  3.025000   32.500000\n",
      "50%     5.500000   550.000000  6.050000   55.000000\n",
      "75%     7.750000   850.000000  7.975000   77.500000\n",
      "max    10.000000  8000.000000  9.900000  100.000000\n",
      "\n",
      "\n",
      "   id Column2  Column3  Column4  Column5\n",
      "0   1       A      100      NaN       10\n",
      "1   2       B      200      1.1       20\n",
      "2   2       C      300      2.2       30\n",
      "3   4       D      400      3.3       40\n",
      "4   5       E      500      NaN       50\n",
      "5   6       F      600      5.5       60\n",
      "6   7       G      700      6.6       70\n",
      "7   8       H     8000      7.7       80\n",
      "8   9       I      900      8.8       90\n",
      "9  10       J     1000      9.9      100\n"
     ]
    }
   ],
   "source": [
    "# Printing a brief message to indicate the following output is prior to cleaning\n",
    "print(\"Before Cleaning:\\n\")\n",
    "\n",
    "# Displaying statistical summaries of the DataFrame before cleaning\n",
    "# This includes count, mean, standard deviation, min, max, and quartiles\n",
    "print(df.describe())\n",
    "\n",
    "print('\\n') # Adding a newline for better readability\n",
    "\n",
    "# Displaying the DataFrame itself before any cleaning operations\n",
    "# This helps in understanding the initial state of the data\n",
    "print(df)"
   ]
  },
  {
   "cell_type": "markdown",
   "metadata": {},
   "source": [
    "**Diving into the Data Cleaning Pipeline: Tackling Noise with Precision**\n",
    "\n",
    "In the realm of data analysis, the quality of data is paramount. Even the most sophisticated algorithms can falter with unclean data. Today, we embark on a journey to cleanse a noisy DataFrame, ensuring it's primed for insightful analysis. Our mission: to tackle three notorious data villains:\n"
   ]
  },
  {
   "cell_type": "markdown",
   "metadata": {},
   "source": [
    "\n",
    "\n",
    "**Missing Values:** Absences can be as telling as presences, but in data, they often leave holes in our understanding. We'll build a bridge over these gaps, using intelligent imputation techniques to fill in the blanks without biasing our dataset.\n",
    "\n",
    "    \n",
    "**1- Function Definition:**\n",
    "\n",
    "     def fill_missing_values(df): This line defines the function named fill_missing_values that takes a DataFrame df as its input.\n",
    "\n",
    "**2- Loop Over Columns:**\n",
    "     \n",
    "     for col in df.select_dtypes(include=['int', 'float']).columns: The function loops over columns of the DataFrame that are of integer (int) or floating-point (float) data types.\n",
    "\n",
    "**3- Calculate Mean:**\n",
    "\n",
    "     val = df[col].mean(): For each numeric column, it calculates the mean (average) value of the column.\n",
    "\n",
    "**4- Fill Missing Values:**\n",
    "\n",
    "     df[col].fillna(val, inplace=True): It then fills any missing values (NaN) in the column with the calculated mean. The inplace=True argument modifies the DataFrame in place.\n",
    "\n",
    "**5- Return DataFrame:**\n",
    "\n",
    "     return df: Finally, the function returns the modified DataFrame with missing values filled in.\n",
    "     \n",
    "This function is designed to handle missing numerical data by imputing the mean, providing a simple yet effective way to maintain data integrity."
   ]
  },
  {
   "cell_type": "code",
   "execution_count": 7,
   "metadata": {},
   "outputs": [],
   "source": [
    "def fill_missing_values(df):\n",
    "    # Iterating through each column in the DataFrame that is of numeric type (int or float)\n",
    "    for col in df.select_dtypes(include=['int','float']).columns:\n",
    "        \n",
    "        # Calculating the mean of the current column\n",
    "        val=df[col].mean()\n",
    "        \n",
    "        # Replacing all NaN (missing) values in the column with the calculated mean\n",
    "        # The inplace=True argument ensures that the changes are made directly in the DataFrame\n",
    "        df[col].fillna(val,inplace=True)\n",
    "        \n",
    "    # Returning the DataFrame after filling all missing values in numeric columns\n",
    "    return df"
   ]
  },
  {
   "cell_type": "markdown",
   "metadata": {},
   "source": [
    "**Duplicates:** Like uninvited clones, duplicated values can skew results and mislead analysis. We'll craft a function to seek out these imposters and ensure each data point is as unique as a fingerprint.\n",
    "    \n",
    "**1- Function Definition:**\n",
    "\n",
    "     def drop_duplicates(df, column_name): This line defines the function named drop_duplicates that takes two arguments: a DataFrame df and a string column_name.\n",
    "\n",
    "**2- Remove Duplicates:**\n",
    "\n",
    "     df = df.drop_duplicates(subset=column_name): The function calls the drop_duplicates method on the DataFrame, specifying the subset parameter as column_name. This removes duplicate rows based on the specified column.\n",
    "\n",
    "**3- Return DataFrame:** \n",
    "\n",
    "    return df: The modified DataFrame, now with duplicates removed from the specified column, is returned.\n",
    "\n",
    "This function is geared towards ensuring data uniqueness, particularly in a column of interest, enhancing the reliability of the dataset."
   ]
  },
  {
   "cell_type": "code",
   "execution_count": 8,
   "metadata": {},
   "outputs": [],
   "source": [
    "def drop_duplicates(df, column_name):\n",
    "    # Removing duplicate rows from the DataFrame based on a specific column.\n",
    "    # The 'subset' parameter specifies the column name to check for duplicates.\n",
    "    # If duplicate rows are found based on this column, only the first occurrence is kept.\n",
    "    df = df.drop_duplicates(subset=column_name)\n",
    "\n",
    "    # Returning the modified DataFrame with duplicates removed.\n",
    "    return df"
   ]
  },
  {
   "cell_type": "markdown",
   "metadata": {},
   "source": [
    "**Outliers:** These are the rebels of data, straying far from the norm. While sometimes valuable, more often, they distort our view of the data landscape. Our outlier-sniffing algorithm will find these extremes and evaluate their place in our analysis.\n",
    "\n",
    "**1- Function Definition:** \n",
    "    \n",
    "    def remove_outliers(df, column_list): Defines the function remove_outliers that takes a DataFrame df and a list of columns column_list as input.\n",
    "\n",
    "**2- Loop Through Columns:** \n",
    "    \n",
    "    for col in column_list: The function iterates over each column specified in column_list.\n",
    "\n",
    "**3- Calculate Quartiles and IQR:**\n",
    "\n",
    "    Q1 = df[col].quantile(0.25): Computes the first quartile (25th percentile) for the column.\n",
    "    Q3 = df[col].quantile(0.75): Computes the third quartile (75th percentile) for the column.\n",
    "    IQR = Q3 - Q1: Calculates the Interquartile Range (IQR), which is the difference between the third and first quartiles.\n",
    "\n",
    "**4-Define Bounds for Outliers:**\n",
    "\n",
    "    lower_bound = Q1 - 1.5 * IQR: Determines the lower bound for outliers.\n",
    "    upper_bound = Q3 + 1.5 * IQR: Determines the upper bound for outliers.\n",
    "\n",
    "**5- Filter Out Outliers:** \n",
    "    \n",
    "    df = df[(df[col] >= lower_bound) & (df[col] <= upper_bound)]: Filters the DataFrame, keeping only the rows where the column values fall within the defined bounds (between lower_bound and upper_bound).\n",
    "\n",
    "**6- Return DataFrame:** \n",
    "    \n",
    "    return df: Returns the DataFrame after removing outliers from the specified columns.\n",
    "\n",
    "This function systematically identifies and removes outliers from specified columns, enhancing the overall data quality for analysis."
   ]
  },
  {
   "cell_type": "code",
   "execution_count": 9,
   "metadata": {},
   "outputs": [],
   "source": [
    "def remove_outliers(df, column_list):\n",
    "    # Iterating over each column specified in the column_list\n",
    "    for col in column_list:\n",
    "        # Calculating the first quartile (25th percentile) of the column\n",
    "        Q1 = df[col].quantile(0.25)\n",
    "\n",
    "        # Calculating the third quartile (75th percentile) of the column\n",
    "        Q3 = df[col].quantile(0.75)\n",
    "\n",
    "        # Computing the Interquartile Range (IQR) as the difference between Q3 and Q1\n",
    "        IQR = Q3 - Q1\n",
    "\n",
    "        # Defining the lower bound to identify outliers (values significantly below the Q1)\n",
    "        lower_bound = Q1 - 1.5 * IQR\n",
    "\n",
    "        # Defining the upper bound to identify outliers (values significantly above the Q3)\n",
    "        upper_bound = Q3 + 1.5 * IQR\n",
    "\n",
    "        # Filtering the DataFrame to include only the rows where the column values\n",
    "        # are within the defined range (i.e., not outliers)\n",
    "        df = df[(df[col] >= lower_bound) & (df[col] <= upper_bound)]\n",
    "\n",
    "    # Returning the DataFrame after removing outliers from the specified columns\n",
    "    return df\n"
   ]
  },
  {
   "cell_type": "markdown",
   "metadata": {},
   "source": [
    "**Create Processed DataFrame:** df_processed = (df...: This line initializes the creation of a new DataFrame, df_processed, which will be the result of applying all the data cleaning functions that wee create to the original DataFrame df.\n",
    "\n",
    " **1- Apply fill_missing_values Function:**\n",
    "\n",
    "    .pipe(fill_missing_values): The pipe method applies the fill_missing_values function to df. This function fills missing values in numeric columns with their mean.\n",
    "\n",
    "**2- Apply drop_duplicates Function:**\n",
    "\n",
    "    .pipe(drop_duplicates, 'id'): Next, pipe applies the drop_duplicates function with the argument 'id'. This removes duplicate rows based on the 'id' column.\n",
    "\n",
    "**3- Apply remove_outliers Function:**\n",
    "\n",
    "    .pipe(remove_outliers, ['Column3']): Finally, pipe applies the remove_outliers function with the argument ['Column3']. This removes outliers from the 'Column3' column based on the IQR method.\n",
    "\n",
    "The pipe method chains these functions together in a sequence, passing the result of each function as the input to the next. The final result, df_processed, is the DataFrame with missing values filled, duplicates removed, and outliers filtered out from 'Column3'. This process streamlines multiple data cleaning steps into a cohesive and efficient workflow.\n"
   ]
  },
  {
   "cell_type": "code",
   "execution_count": 10,
   "metadata": {},
   "outputs": [],
   "source": [
    "# Applying a series of data cleaning functions to the DataFrame 'df' using a pipeline approach\n",
    "\n",
    "# The 'pipe' method allows for chaining functions. It passes the result of one function as input to the next.\n",
    "\n",
    "# 1. Applying 'fill_missing_values' function\n",
    "#    This fills any missing values in numeric columns with their mean.\n",
    "df_processed = (df\n",
    "                .pipe(fill_missing_values)  # Filling missing values in the DataFrame\n",
    "\n",
    "                # 2. Applying 'drop_duplicates' function\n",
    "                #    This removes duplicate rows based on the 'id' column.\n",
    "                .pipe(drop_duplicates, 'id')  # Removing duplicates based on 'id'\n",
    "\n",
    "                # 3. Applying 'remove_outliers' function\n",
    "                #    This removes outliers in the 'Column3'.\n",
    "                #    Outliers are determined based on the Interquartile Range (IQR) method.\n",
    "                .pipe(remove_outliers, ['Column3']))  # Removing outliers from 'Column3'\n",
    "\n",
    "# The result is a DataFrame where missing values have been filled,\n",
    "# duplicates removed, and outliers in 'Column3' eliminated.\n"
   ]
  },
  {
   "cell_type": "markdown",
   "metadata": {},
   "source": [
    "Examinate the dataframe and statistical sumaries after the data treatment:"
   ]
  },
  {
   "cell_type": "code",
   "execution_count": 11,
   "metadata": {},
   "outputs": [
    {
     "name": "stdout",
     "output_type": "stream",
     "text": [
      "\n",
      "After Cleaning:\n",
      "              id      Column3   Column4     Column5\n",
      "count   8.000000     8.000000  8.000000    8.000000\n",
      "mean    5.500000   550.000000  5.809375   55.000000\n",
      "std     3.162278   316.227766  2.801329   31.622777\n",
      "min     1.000000   100.000000  1.100000   10.000000\n",
      "25%     3.500000   350.000000  4.950000   35.000000\n",
      "50%     5.500000   550.000000  5.637500   55.000000\n",
      "75%     7.500000   750.000000  7.150000   75.000000\n",
      "max    10.000000  1000.000000  9.900000  100.000000\n",
      "\n",
      "\n",
      "   id Column2  Column3  Column4  Column5\n",
      "0   1       A      100   5.6375       10\n",
      "1   2       B      200   1.1000       20\n",
      "3   4       D      400   3.3000       40\n",
      "4   5       E      500   5.6375       50\n",
      "5   6       F      600   5.5000       60\n",
      "6   7       G      700   6.6000       70\n",
      "8   9       I      900   8.8000       90\n",
      "9  10       J     1000   9.9000      100\n"
     ]
    }
   ],
   "source": [
    "# Print statements for showing the state of the DataFrame after cleaning\n",
    "\n",
    "# Printing a brief message to indicate the following output is post-cleaning\n",
    "print(\"\\nAfter Cleaning:\")\n",
    "\n",
    "# Displaying statistical summaries of the DataFrame after cleaning\n",
    "# This includes count, mean, standard deviation, min, max, and quartiles for each column\n",
    "# It helps in understanding the changes brought by the cleaning process\n",
    "print(df_processed.describe())\n",
    "print('\\n')  # Adding a newline for better readability\n",
    "\n",
    "# Displaying the DataFrame itself after all cleaning operations\n",
    "# This output will reflect the data after handling missing values, duplicates, and outliers\n",
    "print(df_processed)"
   ]
  },
  {
   "cell_type": "markdown",
   "metadata": {},
   "source": [
    "## Visual Comparison: Before and After Data Cleaning\n",
    "\n",
    "In this section, we visually compare the distribution of values in 'Column3' before and after applying our data cleaning pipeline. This will help us understand the impact of our cleaning process, particularly regarding outlier removal.\n",
    "\n",
    "Histograms Before and After Cleaning:\n",
    "\n",
    "We use histograms to visualize the distribution of values in 'Column3'. The goal is to observe how the distribution changes after removing outliers and how it affects the overall data quality.\n",
    "\n"
   ]
  },
  {
   "cell_type": "code",
   "execution_count": 12,
   "metadata": {},
   "outputs": [
    {
     "data": {
      "image/png": "[encoded data removed]",
      "text/plain": [
       "<Figure size 1200x600 with 2 Axes>"
      ]
     },
     "metadata": {},
     "output_type": "display_data"
    }
   ],
   "source": [
    "import matplotlib.pyplot as plt\n",
    "import seaborn as sns\n",
    "\n",
    "# Setting the aesthetic style of the plots to 'whitegrid' for better readability\n",
    "sns.set_style(\"whitegrid\")\n",
    "\n",
    "# Creating a figure with two subplots for side-by-side comparison\n",
    "plt.figure(figsize=(12, 6))\n",
    "\n",
    "# First Subplot: Histogram of 'Column3' Before Cleaning\n",
    "plt.subplot(1, 2, 1)\n",
    "# Creating a histogram with a Kernel Density Estimate (KDE) overlay for 'Column3' before cleaning\n",
    "sns.histplot(df['Column3'], kde=True, color='blue', label='Before Cleaning')\n",
    "# Setting the title of the first subplot\n",
    "plt.title('Before Cleaning')\n",
    "# Adding a legend to the first subplot\n",
    "plt.legend()\n",
    "\n",
    "# Second Subplot: Histogram of 'Column3' After Cleaning\n",
    "plt.subplot(1, 2, 2)\n",
    "# Creating a histogram with a KDE overlay for 'Column3' after cleaning\n",
    "sns.histplot(df_processed['Column3'], kde=True, color='green', label='After Cleaning')\n",
    "# Setting the title of the second subplot\n",
    "plt.title('After Cleaning')\n",
    "# Adding a legend to the second subplot\n",
    "plt.legend()\n",
    "\n",
    "# Displaying the plots\n",
    "plt.show()\n"
   ]
  },
  {
   "cell_type": "markdown",
   "metadata": {},
   "source": [
    "The histograms provide a clear visual comparison between the original and cleaned data in 'Column3'. By analyzing these plots, we can assess the effectiveness of our outlier removal strategy and its impact on the data distribution. Such visual insights are invaluable in data preprocessing and exploratory analysis."
   ]
  },
  {
   "cell_type": "markdown",
   "metadata": {},
   "source": [
    "## Observations from Data Cleaning Process\n",
    "\n",
    "- **Before Cleaning:** The histogram shows a broad distribution with a significant peak, suggesting the presence of outliers.\n",
    "\n",
    "- **After Cleaning:** Post-cleaning, the distribution appears more centered and normalized, indicating the effective removal of outliers.\n",
    "\n",
    "These visual changes in the distribution of 'Column3' demonstrate the impact of our outlier removal process. The standard deviation has likely reduced, reflecting a dataset that more accurately represents the underlying trends without the distortion of extreme values.\n",
    "\n"
   ]
  },
  {
   "cell_type": "markdown",
   "metadata": {},
   "source": [
    "## Interpretation of Changes\n",
    "The cleaning process has crucially improved the quality of our dataset:\n",
    "\n",
    "- **Removing Duplicates:** Ensures each data point is unique, preventing skewed analysis due to repeated entries.\n",
    "- **Outlier Removal:** By eliminating extreme values in 'Column3', we've likely enhanced the accuracy of any statistical or machine learning models that will be applied to this dataset.\n",
    "- **Handling Missing Values:** Filling missing values in numeric columns with the mean provides a balanced approach to maintain dataset integrity without introducing significant bias.\n",
    "\n",
    "Overall, these steps contribute to a dataset that is more robust and reliable for analysis, laying a solid foundation for any further data exploration or modeling."
   ]
  }
 ],
 "metadata": {
  "kernelspec": {
   "display_name": "Python 3",
   "language": "python",
   "name": "python3"
  },
  "language_info": {
   "codemirror_mode": {
    "name": "ipython",
    "version": 3
   },
   "file_extension": ".py",
   "mimetype": "text/x-python",
   "name": "python",
   "nbconvert_exporter": "python",
   "pygments_lexer": "ipython3",
   "version": "3.11.3"
  }
 },
 "nbformat": 4,
 "nbformat_minor": 2
}
